{
 "cells": [
  {
   "cell_type": "markdown",
   "id": "47824a77",
   "metadata": {},
   "source": [
    "# ENOT Lite Framework: Getting Started"
   ]
  },
  {
   "cell_type": "markdown",
   "id": "f40d2ec6",
   "metadata": {},
   "source": [
    "This is a minimal example of using ENOT Lite Framework."
   ]
  },
  {
   "cell_type": "code",
   "execution_count": null,
   "id": "bf187ff0",
   "metadata": {},
   "outputs": [],
   "source": [
    "# ENOT Lite Framework does not depends on these packages.\n",
    "# They are used for illustrative purposes.\n",
    "\n",
    "import inspect\n",
    "import urllib.request\n",
    "import numpy as np\n",
    "from PIL import Image\n",
    "from PIL import ImageDraw\n",
    "from torchvision import transforms"
   ]
  },
  {
   "cell_type": "markdown",
   "id": "9fd9c4da",
   "metadata": {},
   "source": [
    "Let's try using **ENOT Lite** backend for task of image classification."
   ]
  },
  {
   "cell_type": "markdown",
   "id": "e4233838",
   "metadata": {},
   "source": [
    "### Model, labels and image\n",
    "At first we should download model, labels and image for classification:"
   ]
  },
  {
   "cell_type": "code",
   "execution_count": null,
   "id": "a35bbee6",
   "metadata": {},
   "outputs": [],
   "source": [
    "urllib.request.urlretrieve(url='https://github.com/onnx/models/raw/main/vision/classification/squeezenet/model/squeezenet1.1-7.onnx', filename='squeezenet1.1-7.onnx');\n",
    "urllib.request.urlretrieve(url='https://s3.amazonaws.com/onnx-model-zoo/synset.txt', filename='synset.txt');\n",
    "urllib.request.urlretrieve(url='https://s3.amazonaws.com/model-server/inputs/kitten.jpg', filename='kitten.jpg');"
   ]
  },
  {
   "cell_type": "markdown",
   "id": "34f258a7",
   "metadata": {},
   "source": [
    "Open and prepare image that will be classified:"
   ]
  },
  {
   "cell_type": "code",
   "execution_count": null,
   "id": "1f8adc06",
   "metadata": {},
   "outputs": [],
   "source": [
    "def preprocess(img):\n",
    "    transform_fn = transforms.Compose(\n",
    "        [\n",
    "            transforms.Resize(256),\n",
    "            transforms.CenterCrop(224),\n",
    "            transforms.ToTensor(),\n",
    "            transforms.Normalize([0.485, 0.456, 0.406], [0.229, 0.224, 0.225])\n",
    "        ]\n",
    "    )\n",
    "    img = transform_fn(img)\n",
    "    img = img.unsqueeze(0)\n",
    "    return img.numpy()\n",
    "\n",
    "image = Image.open('kitten.jpg')\n",
    "image = preprocess(image)"
   ]
  },
  {
   "cell_type": "markdown",
   "id": "ad5d9844",
   "metadata": {},
   "source": [
    "Get labels from downloaded file:"
   ]
  },
  {
   "cell_type": "code",
   "execution_count": null,
   "id": "2c5a287d",
   "metadata": {},
   "outputs": [],
   "source": [
    "with open('synset.txt', 'r') as file:\n",
    "    labels = [line.rstrip() for line in file]"
   ]
  },
  {
   "cell_type": "markdown",
   "id": "57dbd645",
   "metadata": {},
   "source": [
    "### Backend usage"
   ]
  },
  {
   "cell_type": "code",
   "execution_count": null,
   "id": "17c6d31c",
   "metadata": {},
   "outputs": [],
   "source": [
    "from enot_lite.backend import BackendFactory\n",
    "from enot_lite.type import BackendType"
   ]
  },
  {
   "cell_type": "markdown",
   "id": "641a5048",
   "metadata": {},
   "source": [
    "To construct new **ENOT Lite** backend you need to provide model and backend type."
   ]
  },
  {
   "cell_type": "code",
   "execution_count": null,
   "id": "df3d46e8",
   "metadata": {},
   "outputs": [],
   "source": [
    "sess = BackendFactory().create('squeezenet1.1-7.onnx', BackendType.ORT_TENSORRT)"
   ]
  },
  {
   "cell_type": "markdown",
   "id": "0c915eaf",
   "metadata": {},
   "source": [
    "Run inference to get prediction by using `run` method of our backend:"
   ]
  },
  {
   "cell_type": "code",
   "execution_count": null,
   "id": "516fe7cd",
   "metadata": {},
   "outputs": [],
   "source": [
    "scores = sess.run(image)[0]"
   ]
  },
  {
   "cell_type": "markdown",
   "id": "2528c691",
   "metadata": {},
   "source": [
    "### Visualize prediction"
   ]
  },
  {
   "cell_type": "code",
   "execution_count": null,
   "id": "bb3f0712",
   "metadata": {},
   "outputs": [],
   "source": [
    "top_class = labels[np.argsort(np.squeeze(scores))[::-1][0]]"
   ]
  },
  {
   "cell_type": "code",
   "execution_count": null,
   "id": "debe0e06",
   "metadata": {
    "scrolled": true
   },
   "outputs": [],
   "source": [
    "classified = Image.open('kitten.jpg')\n",
    "classified = classified.resize((256, 256))\n",
    "draw = ImageDraw.Draw(classified)\n",
    "draw.text((60, 10), top_class, (255, 255, 255))\n",
    "display(classified)"
   ]
  }
 ],
 "metadata": {
  "kernelspec": {
   "display_name": "Python 3 (ipykernel)",
   "language": "python",
   "name": "python3"
  },
  "language_info": {
   "codemirror_mode": {
    "name": "ipython",
    "version": 3
   },
   "file_extension": ".py",
   "mimetype": "text/x-python",
   "name": "python",
   "nbconvert_exporter": "python",
   "pygments_lexer": "ipython3",
   "version": "3.8.11"
  }
 },
 "nbformat": 4,
 "nbformat_minor": 5
}
